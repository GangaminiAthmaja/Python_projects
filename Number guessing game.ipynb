{
 "cells": [
  {
   "cell_type": "markdown",
   "id": "b641098a",
   "metadata": {},
   "source": [
    "This is a small game. The computer is giving a random value in between 1 and 20. User can win the game by guessing that value within 5 attemps."
   ]
  },
  {
   "cell_type": "code",
   "execution_count": 5,
   "id": "c54da3d8",
   "metadata": {},
   "outputs": [
    {
     "name": "stdout",
     "output_type": "stream",
     "text": [
      "Enter your Guess6\n",
      "Enter a lower Value!\n",
      "Enter your Guess4\n",
      "Enter a lower Value!\n",
      "Enter your Guess2\n",
      "Enter a lower Value!\n",
      "Enter your Guess1\n",
      "You have won the game!!!\n",
      "You have tried 4 attempts.\n"
     ]
    }
   ],
   "source": [
    "import random\n",
    "\n",
    "rnum = random.randint(1,20)\n",
    "unum = int(input('Enter your Guess'))\n",
    "c=1\n",
    "while rnum!=unum:\n",
    "    if unum>=1 and unum<=20:\n",
    "        if rnum>unum:\n",
    "            print(\"Enter a Higher Value!\")\n",
    "        else:\n",
    "             print(\"Enter a lower Value!\")\n",
    "    \n",
    "        unum = int(input('Enter your Guess'))\n",
    "        c+=1\n",
    "        \n",
    "    else:\n",
    "        print(\"Your input is not in the correct region. Restart the game.\")\n",
    "        break\n",
    "    \n",
    "else:\n",
    "    if c<=5:\n",
    "        print(\"You have won the game!!!\")\n",
    "        print(\"You have tried {} attempts.\".format(c))\n",
    "    else:\n",
    "        print(\"You have lost the game. You have tried {} attempts\".format(c))"
   ]
  },
  {
   "cell_type": "code",
   "execution_count": 3,
   "id": "dd327992",
   "metadata": {},
   "outputs": [],
   "source": [
    "def RandomGuessing(a,b):\n",
    "    import random\n",
    "\n",
    "    rnum = random.randint(a,b)\n",
    "    unum = int(input('Enter your Guess'))\n",
    "    c=1\n",
    "    while rnum!=unum:\n",
    "        if unum>=a and unum<=b:\n",
    "            if rnum>unum:\n",
    "                print(\"Enter a Higher Value!\")\n",
    "            else:\n",
    "                 print(\"Enter a lower Value!\")\n",
    "\n",
    "            unum = int(input('Enter your Guess'))\n",
    "            c+=1\n",
    "\n",
    "        else:\n",
    "            print(\"Your input is not in the correct region. Restart the game.\")\n",
    "            break\n",
    "\n",
    "    else:\n",
    "        if c<=5:\n",
    "            print(\"You have won the game!!!\")\n",
    "            print(\"You have tried {} attempts.\".format(c))\n",
    "        else:\n",
    "            print(\"You have lost the game. You have tried {} attempts\".format(c))"
   ]
  },
  {
   "cell_type": "code",
   "execution_count": 4,
   "id": "78134b1e",
   "metadata": {},
   "outputs": [
    {
     "name": "stdout",
     "output_type": "stream",
     "text": [
      "Enter your Guess4\n",
      "Enter a Higher Value!\n",
      "Enter your Guess6\n",
      "Enter a Higher Value!\n",
      "Enter your Guess9\n",
      "Enter a Higher Value!\n",
      "Enter your Guess10\n",
      "You have won the game!!!\n",
      "You have tried 4 attempts.\n"
     ]
    }
   ],
   "source": [
    "RandomGuessing(1,10)"
   ]
  },
  {
   "cell_type": "code",
   "execution_count": null,
   "id": "bd3cdedd",
   "metadata": {},
   "outputs": [],
   "source": []
  }
 ],
 "metadata": {
  "kernelspec": {
   "display_name": "Python 3 (ipykernel)",
   "language": "python",
   "name": "python3"
  },
  "language_info": {
   "codemirror_mode": {
    "name": "ipython",
    "version": 3
   },
   "file_extension": ".py",
   "mimetype": "text/x-python",
   "name": "python",
   "nbconvert_exporter": "python",
   "pygments_lexer": "ipython3",
   "version": "3.9.12"
  }
 },
 "nbformat": 4,
 "nbformat_minor": 5
}
