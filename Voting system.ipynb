{
 "cells": [
  {
   "cell_type": "markdown",
   "id": "d74161d4",
   "metadata": {},
   "source": [
    "Voting System"
   ]
  },
  {
   "cell_type": "code",
   "execution_count": 1,
   "id": "46e2ab0f",
   "metadata": {},
   "outputs": [
    {
     "name": "stdout",
     "output_type": "stream",
     "text": [
      "Vote for: A\n",
      "Vote for: B\n",
      "Vote for: C\n",
      "Vote for: G\n",
      "Vote for: D\n",
      "Vote for: A\n",
      "Vote for: A\n",
      "Vote for: B\n",
      "Vote for: A\n",
      "Vote for: C\n",
      "{'A': 4, 'B': 2, 'C': 2, 'unacceptable': 2}\n"
     ]
    }
   ],
   "source": [
    "results={\"A\":0,\"B\":0,\"C\":0}\n",
    "voters = list(range(1001,1011))\n",
    "unacceptable=0\n",
    "\n",
    "for voter in voters:\n",
    "    vote = input(\"Vote for: \")\n",
    "    \n",
    "    if vote in results:\n",
    "        results[vote]+=1\n",
    "    else:\n",
    "        unacceptable+=1\n",
    "\n",
    "results[\"unacceptable\"]=unacceptable\n",
    "print(results)"
   ]
  },
  {
   "cell_type": "code",
   "execution_count": 2,
   "id": "804711b6",
   "metadata": {},
   "outputs": [],
   "source": [
    "def voting_system():\n",
    "    results={\"A\":0,\"B\":0,\"C\":0}\n",
    "    voters = list(range(1001,1011))\n",
    "    unacceptable=0\n",
    "\n",
    "    for voter in voters:\n",
    "        vote = input(\"Vote for: \")\n",
    "\n",
    "        if vote in results:\n",
    "            results[vote]+=1\n",
    "        else:\n",
    "            unacceptable+=1\n",
    "\n",
    "    results[\"unacceptable\"]=unacceptable\n",
    "    return results"
   ]
  },
  {
   "cell_type": "code",
   "execution_count": 3,
   "id": "3ea92335",
   "metadata": {},
   "outputs": [
    {
     "name": "stdout",
     "output_type": "stream",
     "text": [
      "Vote for: A\n",
      "Vote for: B\n",
      "Vote for: B\n",
      "Vote for: G\n",
      "Vote for: C\n",
      "Vote for: C\n",
      "Vote for: C\n",
      "Vote for: B\n",
      "Vote for: A\n",
      "Vote for: C\n"
     ]
    },
    {
     "data": {
      "text/plain": [
       "{'A': 2, 'B': 3, 'C': 4, 'unacceptable': 1}"
      ]
     },
     "execution_count": 3,
     "metadata": {},
     "output_type": "execute_result"
    }
   ],
   "source": [
    "voting_system()"
   ]
  },
  {
   "cell_type": "code",
   "execution_count": null,
   "id": "5f6704f0",
   "metadata": {},
   "outputs": [],
   "source": []
  }
 ],
 "metadata": {
  "kernelspec": {
   "display_name": "Python 3 (ipykernel)",
   "language": "python",
   "name": "python3"
  },
  "language_info": {
   "codemirror_mode": {
    "name": "ipython",
    "version": 3
   },
   "file_extension": ".py",
   "mimetype": "text/x-python",
   "name": "python",
   "nbconvert_exporter": "python",
   "pygments_lexer": "ipython3",
   "version": "3.9.12"
  }
 },
 "nbformat": 4,
 "nbformat_minor": 5
}
