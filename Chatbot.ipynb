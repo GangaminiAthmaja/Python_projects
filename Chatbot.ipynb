{
 "cells": [
  {
   "cell_type": "markdown",
   "id": "cfc0b4a7",
   "metadata": {},
   "source": [
    "Chatbot"
   ]
  },
  {
   "cell_type": "code",
   "execution_count": 1,
   "id": "2fc60bab",
   "metadata": {},
   "outputs": [],
   "source": [
    "ques=\"What is your company CEO name?\""
   ]
  },
  {
   "cell_type": "code",
   "execution_count": 2,
   "id": "248deb27",
   "metadata": {},
   "outputs": [
    {
     "data": {
      "text/plain": [
       "True"
      ]
     },
     "execution_count": 2,
     "metadata": {},
     "output_type": "execute_result"
    }
   ],
   "source": [
    "all(i in ques.lower() for i in [\"name\",\"ceo\"])"
   ]
  },
  {
   "cell_type": "code",
   "execution_count": 5,
   "id": "18ccb064",
   "metadata": {},
   "outputs": [
    {
     "name": "stdout",
     "output_type": "stream",
     "text": [
      "Jack: Hello I'm Jack. What is your name\n",
      "Your name : Gangamini Suriyawatta\n",
      "Jack: Hi Gangamini Suriyawatta... So ehat do you want to know about our company?\n",
      "what is the name of CEO\n",
      "Jack: Our CEO is Mr. James Samuel\n",
      "Do you want to continue? (Yes/No)\n",
      "no\n",
      "Jack: Happy chat with you. Have a nice day!\n"
     ]
    }
   ],
   "source": [
    "print(\"Jack: Hello I'm Jack. What is your name\")\n",
    "name=input(\"Your name : \")\n",
    "print(\"Jack: Hi {}... So ehat do you want to know about our company?\".format(name))\n",
    "ques=input()\n",
    "\n",
    "def chat_check():\n",
    "    global flag\n",
    "    print(\"Do you want to continue? (Yes/No)\")\n",
    "    check=input()\n",
    "    \n",
    "    if check.lower()==\"yes\":\n",
    "        print(\"Jack: Okay.. What do you want to know?\")\n",
    "        ques=input()\n",
    "        \n",
    "    else:\n",
    "        print(\"Jack: Happy chat with you. Have a nice day!\")\n",
    "        flag=False\n",
    "\n",
    "flag=True\n",
    "\n",
    "while flag:\n",
    "    if all(i in ques.lower() for i in [\"ceo\",\"name\"]): \n",
    "        print(\"Jack: Our CEO is Mr. James Samuel\")\n",
    "        chat_check()\n",
    "        \n",
    "    elif all(i in ques.lower() for i in [\"name\",\"company\"]): \n",
    "        print(\"Jack: Our company is ABC(pvt).Ltd\")\n",
    "        chat_check()\n",
    "        \n",
    "    elif any(i in ques.lower() for i in [\"service\",\"product\",\"manufacture\"]): \n",
    "        print(\"Jack: Our Company is devolping Data Science software products\")\n",
    "        chat_check()\n",
    "        \n",
    "    else:\n",
    "        print(\"Jack: Your question is not clear\")\n",
    "        chat_check()\n",
    "        "
   ]
  },
  {
   "cell_type": "code",
   "execution_count": null,
   "id": "6d888181",
   "metadata": {},
   "outputs": [],
   "source": []
  }
 ],
 "metadata": {
  "kernelspec": {
   "display_name": "Python 3 (ipykernel)",
   "language": "python",
   "name": "python3"
  },
  "language_info": {
   "codemirror_mode": {
    "name": "ipython",
    "version": 3
   },
   "file_extension": ".py",
   "mimetype": "text/x-python",
   "name": "python",
   "nbconvert_exporter": "python",
   "pygments_lexer": "ipython3",
   "version": "3.9.12"
  }
 },
 "nbformat": 4,
 "nbformat_minor": 5
}
